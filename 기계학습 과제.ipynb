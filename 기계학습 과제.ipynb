{
 "cells": [
  {
   "cell_type": "markdown",
   "id": "2174b105",
   "metadata": {},
   "source": [
    "# 타이타닉 데이터셋 분석 및 생존자/사망자 예측"
   ]
  },
  {
   "cell_type": "markdown",
   "id": "568d9a4d",
   "metadata": {},
   "source": [
    "### 2021100894 심희영"
   ]
  },
  {
   "cell_type": "code",
   "execution_count": 17,
   "id": "873de470",
   "metadata": {},
   "outputs": [],
   "source": [
    "import numpy as np\n",
    "import pandas as pd\n",
    "import matplotlib.pyplot as plt\n",
    "import seaborn as sns\n",
    "%matplotlib inline"
   ]
  },
  {
   "cell_type": "code",
   "execution_count": 18,
   "id": "32864a5d",
   "metadata": {},
   "outputs": [
    {
     "name": "stdout",
     "output_type": "stream",
     "text": [
      "<class 'pandas.core.frame.DataFrame'>\n",
      "RangeIndex: 891 entries, 0 to 890\n",
      "Data columns (total 12 columns):\n",
      " #   Column       Non-Null Count  Dtype  \n",
      "---  ------       --------------  -----  \n",
      " 0   PassengerId  891 non-null    int64  \n",
      " 1   Survived     891 non-null    int64  \n",
      " 2   Pclass       891 non-null    int64  \n",
      " 3   Name         891 non-null    object \n",
      " 4   Sex          891 non-null    object \n",
      " 5   Age          714 non-null    float64\n",
      " 6   SibSp        891 non-null    int64  \n",
      " 7   Parch        891 non-null    int64  \n",
      " 8   Ticket       891 non-null    object \n",
      " 9   Fare         891 non-null    float64\n",
      " 10  Cabin        204 non-null    object \n",
      " 11  Embarked     889 non-null    object \n",
      "dtypes: float64(2), int64(5), object(5)\n",
      "memory usage: 83.7+ KB\n"
     ]
    }
   ],
   "source": [
    "df=pd.read_csv('./train.csv')\n",
    "df.info()"
   ]
  },
  {
   "cell_type": "code",
   "execution_count": 19,
   "id": "a6b1bf75",
   "metadata": {},
   "outputs": [
    {
     "data": {
      "text/html": [
       "<div>\n",
       "<style scoped>\n",
       "    .dataframe tbody tr th:only-of-type {\n",
       "        vertical-align: middle;\n",
       "    }\n",
       "\n",
       "    .dataframe tbody tr th {\n",
       "        vertical-align: top;\n",
       "    }\n",
       "\n",
       "    .dataframe thead th {\n",
       "        text-align: right;\n",
       "    }\n",
       "</style>\n",
       "<table border=\"1\" class=\"dataframe\">\n",
       "  <thead>\n",
       "    <tr style=\"text-align: right;\">\n",
       "      <th></th>\n",
       "      <th>PassengerId</th>\n",
       "      <th>Survived</th>\n",
       "      <th>Pclass</th>\n",
       "      <th>Age</th>\n",
       "      <th>SibSp</th>\n",
       "      <th>Parch</th>\n",
       "      <th>Fare</th>\n",
       "    </tr>\n",
       "  </thead>\n",
       "  <tbody>\n",
       "    <tr>\n",
       "      <th>count</th>\n",
       "      <td>891.000000</td>\n",
       "      <td>891.000000</td>\n",
       "      <td>891.000000</td>\n",
       "      <td>714.000000</td>\n",
       "      <td>891.000000</td>\n",
       "      <td>891.000000</td>\n",
       "      <td>891.000000</td>\n",
       "    </tr>\n",
       "    <tr>\n",
       "      <th>mean</th>\n",
       "      <td>446.000000</td>\n",
       "      <td>0.383838</td>\n",
       "      <td>2.308642</td>\n",
       "      <td>29.699118</td>\n",
       "      <td>0.523008</td>\n",
       "      <td>0.381594</td>\n",
       "      <td>32.204208</td>\n",
       "    </tr>\n",
       "    <tr>\n",
       "      <th>std</th>\n",
       "      <td>257.353842</td>\n",
       "      <td>0.486592</td>\n",
       "      <td>0.836071</td>\n",
       "      <td>14.526497</td>\n",
       "      <td>1.102743</td>\n",
       "      <td>0.806057</td>\n",
       "      <td>49.693429</td>\n",
       "    </tr>\n",
       "    <tr>\n",
       "      <th>min</th>\n",
       "      <td>1.000000</td>\n",
       "      <td>0.000000</td>\n",
       "      <td>1.000000</td>\n",
       "      <td>0.420000</td>\n",
       "      <td>0.000000</td>\n",
       "      <td>0.000000</td>\n",
       "      <td>0.000000</td>\n",
       "    </tr>\n",
       "    <tr>\n",
       "      <th>25%</th>\n",
       "      <td>223.500000</td>\n",
       "      <td>0.000000</td>\n",
       "      <td>2.000000</td>\n",
       "      <td>20.125000</td>\n",
       "      <td>0.000000</td>\n",
       "      <td>0.000000</td>\n",
       "      <td>7.910400</td>\n",
       "    </tr>\n",
       "    <tr>\n",
       "      <th>50%</th>\n",
       "      <td>446.000000</td>\n",
       "      <td>0.000000</td>\n",
       "      <td>3.000000</td>\n",
       "      <td>28.000000</td>\n",
       "      <td>0.000000</td>\n",
       "      <td>0.000000</td>\n",
       "      <td>14.454200</td>\n",
       "    </tr>\n",
       "    <tr>\n",
       "      <th>75%</th>\n",
       "      <td>668.500000</td>\n",
       "      <td>1.000000</td>\n",
       "      <td>3.000000</td>\n",
       "      <td>38.000000</td>\n",
       "      <td>1.000000</td>\n",
       "      <td>0.000000</td>\n",
       "      <td>31.000000</td>\n",
       "    </tr>\n",
       "    <tr>\n",
       "      <th>max</th>\n",
       "      <td>891.000000</td>\n",
       "      <td>1.000000</td>\n",
       "      <td>3.000000</td>\n",
       "      <td>80.000000</td>\n",
       "      <td>8.000000</td>\n",
       "      <td>6.000000</td>\n",
       "      <td>512.329200</td>\n",
       "    </tr>\n",
       "  </tbody>\n",
       "</table>\n",
       "</div>"
      ],
      "text/plain": [
       "       PassengerId    Survived      Pclass         Age       SibSp  \\\n",
       "count   891.000000  891.000000  891.000000  714.000000  891.000000   \n",
       "mean    446.000000    0.383838    2.308642   29.699118    0.523008   \n",
       "std     257.353842    0.486592    0.836071   14.526497    1.102743   \n",
       "min       1.000000    0.000000    1.000000    0.420000    0.000000   \n",
       "25%     223.500000    0.000000    2.000000   20.125000    0.000000   \n",
       "50%     446.000000    0.000000    3.000000   28.000000    0.000000   \n",
       "75%     668.500000    1.000000    3.000000   38.000000    1.000000   \n",
       "max     891.000000    1.000000    3.000000   80.000000    8.000000   \n",
       "\n",
       "            Parch        Fare  \n",
       "count  891.000000  891.000000  \n",
       "mean     0.381594   32.204208  \n",
       "std      0.806057   49.693429  \n",
       "min      0.000000    0.000000  \n",
       "25%      0.000000    7.910400  \n",
       "50%      0.000000   14.454200  \n",
       "75%      0.000000   31.000000  \n",
       "max      6.000000  512.329200  "
      ]
     },
     "execution_count": 19,
     "metadata": {},
     "output_type": "execute_result"
    }
   ],
   "source": [
    "df.describe()"
   ]
  },
  {
   "cell_type": "code",
   "execution_count": 20,
   "id": "a12a911a",
   "metadata": {},
   "outputs": [
    {
     "data": {
      "text/plain": [
       "Index(['PassengerId', 'Survived', 'Pclass', 'Name', 'Sex', 'Age', 'SibSp',\n",
       "       'Parch', 'Ticket', 'Fare', 'Cabin', 'Embarked'],\n",
       "      dtype='object')"
      ]
     },
     "execution_count": 20,
     "metadata": {},
     "output_type": "execute_result"
    }
   ],
   "source": [
    "df.columns"
   ]
  },
  {
   "cell_type": "code",
   "execution_count": 21,
   "id": "9f47cf09",
   "metadata": {},
   "outputs": [],
   "source": [
    "df['Age'].fillna(df['Age'].mean(), inplace = True)\n",
    "df['Cabin'].fillna('N', inplace = True)\n",
    "df['Embarked'].fillna('N', inplace = True) "
   ]
  },
  {
   "cell_type": "markdown",
   "id": "28fa0fec",
   "metadata": {},
   "source": [
    "각각 평균값, N,N으로 결측치 대체"
   ]
  },
  {
   "cell_type": "code",
   "execution_count": 23,
   "id": "511dae2a",
   "metadata": {},
   "outputs": [],
   "source": [
    "def Drop(df):\n",
    "    df.drop(['PassengerId','Name','Ticket'],axis=1,inplace=True)\n",
    "    return df"
   ]
  },
  {
   "cell_type": "markdown",
   "id": "8e5e8705",
   "metadata": {},
   "source": [
    "#### 필요없는 변수 삭제"
   ]
  },
  {
   "cell_type": "markdown",
   "id": "a503eda8",
   "metadata": {},
   "source": [
    "### 가설\n",
    "#### 1. 여자와 남자중 누가더 많이 살아남았나?\n",
    "#### 2. 재력등급이 높을수록 생존률이 높나?\n",
    "#### 3. 나이가 어릴수록 생존률이 높나?\n",
    "#### 4. 나이와 성별에 따른 생존률은?\n",
    "#### 5. 재력등급에 따른 나이,성별 분포\n",
    "#### 6. 티켓가격이 높을수록 생존률이 높나?\n",
    "#### 7. 구성원수가 많을 수록 생존률이 낮을까?"
   ]
  },
  {
   "cell_type": "code",
   "execution_count": 24,
   "id": "745ef2b1",
   "metadata": {},
   "outputs": [
    {
     "data": {
      "text/plain": [
       "Sex     Survived\n",
       "female  0            81\n",
       "        1           233\n",
       "male    0           468\n",
       "        1           109\n",
       "Name: Survived, dtype: int64"
      ]
     },
     "execution_count": 24,
     "metadata": {},
     "output_type": "execute_result"
    }
   ],
   "source": [
    "df.groupby(['Sex', 'Survived'])['Survived'].count()"
   ]
  },
  {
   "cell_type": "code",
   "execution_count": 25,
   "id": "34b86f72",
   "metadata": {},
   "outputs": [
    {
     "name": "stderr",
     "output_type": "stream",
     "text": [
      "C:\\Users\\ils09\\AppData\\Local\\Temp\\ipykernel_18988\\4291379430.py:1: FutureWarning: \n",
      "\n",
      "The `ci` parameter is deprecated. Use `errorbar=None` for the same effect.\n",
      "\n",
      "  sns.barplot(x='Sex', y='Survived',data=df,ci=None)\n"
     ]
    },
    {
     "data": {
      "text/plain": [
       "<Axes: xlabel='Sex', ylabel='Survived'>"
      ]
     },
     "execution_count": 25,
     "metadata": {},
     "output_type": "execute_result"
    },
    {
     "data": {
      "image/png": "[encoded data removed]",
      "text/plain": [
       "<Figure size 640x480 with 1 Axes>"
      ]
     },
     "metadata": {},
     "output_type": "display_data"
    }
   ],
   "source": [
    "sns.barplot(x='Sex', y='Survived',data=df,ci=None)"
   ]
  },
  {
   "cell_type": "markdown",
   "id": "8d3b2d95",
   "metadata": {},
   "source": [
    "여자는 314명중 233명이 생존했고 남자는 577명중 109명만 생존했다. 즉 남자에 비해 여자의 생존률이 두배이상 높은것을 확인할 수 있다. "
   ]
  },
  {
   "cell_type": "code",
   "execution_count": 26,
   "id": "f7c06336",
   "metadata": {
    "scrolled": true
   },
   "outputs": [
    {
     "name": "stderr",
     "output_type": "stream",
     "text": [
      "C:\\Users\\ils09\\AppData\\Local\\Temp\\ipykernel_18988\\73311238.py:1: FutureWarning: \n",
      "\n",
      "The `ci` parameter is deprecated. Use `errorbar=None` for the same effect.\n",
      "\n",
      "  sns.barplot(x='Pclass', y='Survived',data=df,ci=None)\n"
     ]
    },
    {
     "data": {
      "text/plain": [
       "<Axes: xlabel='Pclass', ylabel='Survived'>"
      ]
     },
     "execution_count": 26,
     "metadata": {},
     "output_type": "execute_result"
    },
    {
     "data": {
      "image/png": "[encoded data removed]",
      "text/plain": [
       "<Figure size 640x480 with 1 Axes>"
      ]
     },
     "metadata": {},
     "output_type": "display_data"
    }
   ],
   "source": [
    "sns.barplot(x='Pclass', y='Survived',data=df,ci=None)"
   ]
  },
  {
   "cell_type": "markdown",
   "id": "2da5f730",
   "metadata": {},
   "source": [
    "사회등급에 따른 생존률은 1등급이 가장 높았고 그다음은 2등급이고 3등급이 가장 생존률이 낮았다. "
   ]
  },
  {
   "cell_type": "code",
   "execution_count": 27,
   "id": "05a961e2",
   "metadata": {},
   "outputs": [
    {
     "data": {
      "text/plain": [
       "<Axes: xlabel='Pclass', ylabel='Count'>"
      ]
     },
     "execution_count": 27,
     "metadata": {},
     "output_type": "execute_result"
    },
    {
     "data": {
      "image/png": "[encoded data removed]",
      "text/plain": [
       "<Figure size 640x480 with 1 Axes>"
      ]
     },
     "metadata": {},
     "output_type": "display_data"
    }
   ],
   "source": [
    "gdata= df.groupby(['Pclass', 'Sex']).size().reset_index(name='Count')\n",
    "sns.barplot(x='Pclass', y='Count', hue='Sex', data=gdata)"
   ]
  },
  {
   "cell_type": "markdown",
   "id": "13a52058",
   "metadata": {},
   "source": [
    "모든 등급에는 남성의 수가 더 많았고 3등급에는 특히 남성이 많이타고 있었던것을 확인할 수 있다. "
   ]
  },
  {
   "cell_type": "code",
   "execution_count": 28,
   "id": "034dd478",
   "metadata": {},
   "outputs": [
    {
     "name": "stderr",
     "output_type": "stream",
     "text": [
      "C:\\Users\\ils09\\AppData\\Local\\Temp\\ipykernel_18988\\2685601958.py:1: FutureWarning: \n",
      "\n",
      "The `ci` parameter is deprecated. Use `errorbar=None` for the same effect.\n",
      "\n",
      "  sns.barplot(x='Pclass', y='Survived', hue='Sex', data=df, ci=None)\n"
     ]
    },
    {
     "data": {
      "text/plain": [
       "<Axes: xlabel='Pclass', ylabel='Survived'>"
      ]
     },
     "execution_count": 28,
     "metadata": {},
     "output_type": "execute_result"
    },
    {
     "data": {
      "image/png": "[encoded data removed]",
      "text/plain": [
       "<Figure size 640x480 with 1 Axes>"
      ]
     },
     "metadata": {},
     "output_type": "display_data"
    }
   ],
   "source": [
    "sns.barplot(x='Pclass', y='Survived', hue='Sex', data=df, ci=None)"
   ]
  },
  {
   "cell_type": "markdown",
   "id": "7a1f5b6a",
   "metadata": {},
   "source": [
    "모든 등급에 남성의 수가 더 많았던것에 비해 생존률은 모든 등급에서 여성이 높았다."
   ]
  },
  {
   "cell_type": "code",
   "execution_count": 29,
   "id": "20cfa07a",
   "metadata": {},
   "outputs": [
    {
     "name": "stderr",
     "output_type": "stream",
     "text": [
      "C:\\Users\\ils09\\AppData\\Local\\Temp\\ipykernel_18988\\1872635343.py:5: FutureWarning: The default of observed=False is deprecated and will be changed to True in a future version of pandas. Pass observed=False to retain current behavior or observed=True to adopt the future default and silence this warning.\n",
      "  g_data = df.groupby(['age', 'Survived']).size().reset_index(name='Count')\n"
     ]
    },
    {
     "data": {
      "text/plain": [
       "<Axes: xlabel='age', ylabel='Count'>"
      ]
     },
     "execution_count": 29,
     "metadata": {},
     "output_type": "execute_result"
    },
    {
     "data": {
      "image/png": "[encoded data removed]",
      "text/plain": [
       "<Figure size 640x480 with 1 Axes>"
      ]
     },
     "metadata": {},
     "output_type": "display_data"
    }
   ],
   "source": [
    "#age라는 새로운 변수를 생성한다.\n",
    "df['age'] = pd.cut(df['Age'], bins=[0, 10, 20, 40, 60, 100],\n",
    "                            include_lowest = True,\n",
    "                            labels = ['child', 'teenager', 'young adult', 'adult', 'elderly'])\n",
    "g_data = df.groupby(['age', 'Survived']).size().reset_index(name='Count')\n",
    "sns.barplot(x='age', y='Count', hue='Survived', data=g_data)"
   ]
  },
  {
   "cell_type": "markdown",
   "id": "1e8d8614",
   "metadata": {},
   "source": [
    "나이 각각을 나타내면 표가 너무 복잡해지기 때문에 나이대 별로 묶어서 나타내었다.\n",
    "10세까지 child , 20세까지 teenager , 40세 까지 young adult, 60세까지 adult, 100세까지 elderly로 각각 나타내었다."
   ]
  },
  {
   "cell_type": "markdown",
   "id": "bd5ccecf",
   "metadata": {},
   "source": [
    "결과를 보면 사망자와 생존자 모두 20에서40세까지 그래프에서 높게 나왔다. 탑승자는 주로 young adult에 해당하는 나이대 사람들이 많았던것을 알 수 있다."
   ]
  },
  {
   "cell_type": "code",
   "execution_count": 30,
   "id": "8f75fcd8",
   "metadata": {},
   "outputs": [
    {
     "name": "stderr",
     "output_type": "stream",
     "text": [
      "C:\\Users\\ils09\\AppData\\Local\\Temp\\ipykernel_18988\\4129452651.py:1: FutureWarning: \n",
      "\n",
      "The `ci` parameter is deprecated. Use `errorbar=None` for the same effect.\n",
      "\n",
      "  sns.barplot(x='age', y='Survived', data=df, ci=None)\n"
     ]
    },
    {
     "data": {
      "text/plain": [
       "<Axes: xlabel='age', ylabel='Survived'>"
      ]
     },
     "execution_count": 30,
     "metadata": {},
     "output_type": "execute_result"
    },
    {
     "data": {
      "image/png": "[encoded data removed]",
      "text/plain": [
       "<Figure size 640x480 with 1 Axes>"
      ]
     },
     "metadata": {},
     "output_type": "display_data"
    }
   ],
   "source": [
    "sns.barplot(x='age', y='Survived', data=df, ci=None)"
   ]
  },
  {
   "cell_type": "markdown",
   "id": "eade5d02",
   "metadata": {},
   "source": [
    "나이가 많은 사람에 비해 상대적으로 어린아이들의 생존률이 높았던 것을 확인할 수 있다. "
   ]
  },
  {
   "cell_type": "code",
   "execution_count": 31,
   "id": "76c05367",
   "metadata": {},
   "outputs": [
    {
     "name": "stderr",
     "output_type": "stream",
     "text": [
      "C:\\Users\\ils09\\AppData\\Local\\Temp\\ipykernel_18988\\1132883528.py:1: FutureWarning: \n",
      "\n",
      "The `ci` parameter is deprecated. Use `errorbar=None` for the same effect.\n",
      "\n",
      "  sns.barplot(x='age', y='Survived', hue='Sex', data=df, ci=None)\n"
     ]
    },
    {
     "data": {
      "text/plain": [
       "<Axes: xlabel='age', ylabel='Survived'>"
      ]
     },
     "execution_count": 31,
     "metadata": {},
     "output_type": "execute_result"
    },
    {
     "data": {
      "image/png": "[encoded data removed]",
      "text/plain": [
       "<Figure size 640x480 with 1 Axes>"
      ]
     },
     "metadata": {},
     "output_type": "display_data"
    }
   ],
   "source": [
    "sns.barplot(x='age', y='Survived', hue='Sex', data=df, ci=None)"
   ]
  },
  {
   "cell_type": "markdown",
   "id": "257b6db8",
   "metadata": {},
   "source": [
    "이그래프에서는 나이와 그 나이를 구성하는 성별의 비율, 그리고 생존률을 한번에 확인할 수 있다.\n",
    "child를 제외한 모든 나이대에서 생존룰은 여성이 남성보다 압도적으로 높은것을 알 수 있다. "
   ]
  },
  {
   "cell_type": "code",
   "execution_count": 32,
   "id": "b37e060e",
   "metadata": {},
   "outputs": [
    {
     "name": "stderr",
     "output_type": "stream",
     "text": [
      "C:\\Users\\ils09\\AppData\\Local\\Temp\\ipykernel_18988\\185127083.py:7: FutureWarning: \n",
      "\n",
      "Passing `palette` without assigning `hue` is deprecated and will be removed in v0.14.0. Assign the `x` variable to `hue` and set `legend=False` for the same effect.\n",
      "\n",
      "  sns.countplot(x='Fare Range', data=df, palette='viridis')\n"
     ]
    },
    {
     "data": {
      "text/plain": [
       "<Axes: xlabel='Fare Range', ylabel='count'>"
      ]
     },
     "execution_count": 32,
     "metadata": {},
     "output_type": "execute_result"
    },
    {
     "data": {
      "image/png": "[encoded data removed]",
      "text/plain": [
       "<Figure size 640x480 with 1 Axes>"
      ]
     },
     "metadata": {},
     "output_type": "display_data"
    }
   ],
   "source": [
    "#Fare Range 라는 변수생성\n",
    "farerange = pd.cut(df['Fare'], \n",
    "                     bins=[0, 20, 50, 100, 200, 600], \n",
    "                     include_lowest=True,\n",
    "                     labels=['0-20', '20-50', '50-100', '100-200', '200-600'])\n",
    "df['Fare Range'] = farerange\n",
    "sns.countplot(x='Fare Range', data=df, palette='viridis')"
   ]
  },
  {
   "cell_type": "markdown",
   "id": "2eb18a7c",
   "metadata": {},
   "source": [
    "티켓요금에 따른 탑승객 분포를 나타낸것이다.\n",
    "0-20의 저렴한 티켓을 가진 탑승객이 많았다는 것을 알 수 있다."
   ]
  },
  {
   "cell_type": "code",
   "execution_count": 33,
   "id": "1e4caff7",
   "metadata": {},
   "outputs": [
    {
     "name": "stderr",
     "output_type": "stream",
     "text": [
      "C:\\Users\\ils09\\AppData\\Local\\Temp\\ipykernel_18988\\1584487868.py:1: FutureWarning: \n",
      "\n",
      "The `ci` parameter is deprecated. Use `errorbar=None` for the same effect.\n",
      "\n",
      "  sns.barplot(x='Fare Range', y='Survived', data=df, ci=None, palette='muted')\n",
      "C:\\Users\\ils09\\AppData\\Local\\Temp\\ipykernel_18988\\1584487868.py:1: FutureWarning: \n",
      "\n",
      "Passing `palette` without assigning `hue` is deprecated and will be removed in v0.14.0. Assign the `x` variable to `hue` and set `legend=False` for the same effect.\n",
      "\n",
      "  sns.barplot(x='Fare Range', y='Survived', data=df, ci=None, palette='muted')\n"
     ]
    },
    {
     "data": {
      "text/plain": [
       "<Axes: xlabel='Fare Range', ylabel='Survived'>"
      ]
     },
     "execution_count": 33,
     "metadata": {},
     "output_type": "execute_result"
    },
    {
     "data": {
      "image/png": "[encoded data removed]",
      "text/plain": [
       "<Figure size 640x480 with 1 Axes>"
      ]
     },
     "metadata": {},
     "output_type": "display_data"
    }
   ],
   "source": [
    "sns.barplot(x='Fare Range', y='Survived', data=df, ci=None, palette='muted')"
   ]
  },
  {
   "cell_type": "markdown",
   "id": "16e3ba2e",
   "metadata": {},
   "source": [
    "탑승객이 가장 많았던 가장저렴한 티켓가격인 0-20의 생존률이 가장 낮았고 가장비싼 200-600의 티켓보다 100-200의 티켓을 구매한 탑승객들의 생존률이 더높았던 것을 확인할 수 있다."
   ]
  },
  {
   "cell_type": "code",
   "execution_count": 34,
   "id": "8cab51e0",
   "metadata": {},
   "outputs": [
    {
     "name": "stdout",
     "output_type": "stream",
     "text": [
      "   SibSp  Parch  Family_Size\n",
      "0      1      0            1\n",
      "1      1      0            1\n",
      "2      0      0            0\n",
      "3      1      0            1\n",
      "4      0      0            0\n"
     ]
    }
   ],
   "source": [
    "df['Family_Size'] = df['SibSp'] + df['Parch'] #새로운 변수 생성\n",
    "print(df[['SibSp', 'Parch', 'Family_Size']].head())"
   ]
  },
  {
   "cell_type": "code",
   "execution_count": 35,
   "id": "002a93de",
   "metadata": {},
   "outputs": [
    {
     "name": "stderr",
     "output_type": "stream",
     "text": [
      "C:\\Users\\ils09\\AppData\\Local\\Temp\\ipykernel_18988\\1583139890.py:1: FutureWarning: \n",
      "\n",
      "The `ci` parameter is deprecated. Use `errorbar=None` for the same effect.\n",
      "\n",
      "  sns.barplot(x='Family_Size', y='Survived', data=df, ci=None)\n"
     ]
    },
    {
     "data": {
      "text/plain": [
       "<Axes: xlabel='Family_Size', ylabel='Survived'>"
      ]
     },
     "execution_count": 35,
     "metadata": {},
     "output_type": "execute_result"
    },
    {
     "data": {
      "image/png": "[encoded data removed]",
      "text/plain": [
       "<Figure size 640x480 with 1 Axes>"
      ]
     },
     "metadata": {},
     "output_type": "display_data"
    }
   ],
   "source": [
    "sns.barplot(x='Family_Size', y='Survived', data=df, ci=None)"
   ]
  },
  {
   "cell_type": "markdown",
   "id": "d050d58f",
   "metadata": {},
   "source": [
    "가족의 구성원이 많을 수록 생존률은 대체적으로 낮은 것을 확인할 수 있다.하지만 구성원이 없는 즉 혼자 탑승한 경우에도 생존률은 높지 않다."
   ]
  },
  {
   "cell_type": "markdown",
   "id": "db78bf28",
   "metadata": {},
   "source": [
    "### 생존자 예측"
   ]
  },
  {
   "cell_type": "code",
   "execution_count": 42,
   "id": "48d69f3f",
   "metadata": {
    "scrolled": false
   },
   "outputs": [
    {
     "name": "stdout",
     "output_type": "stream",
     "text": [
      "Accuracy: 0.8100558659217877\n"
     ]
    },
    {
     "name": "stderr",
     "output_type": "stream",
     "text": [
      "C:\\Users\\ils09\\AppData\\Local\\Temp\\ipykernel_18988\\1020351046.py:11: SettingWithCopyWarning: \n",
      "A value is trying to be set on a copy of a slice from a DataFrame.\n",
      "Try using .loc[row_indexer,col_indexer] = value instead\n",
      "\n",
      "See the caveats in the documentation: https://pandas.pydata.org/pandas-docs/stable/user_guide/indexing.html#returning-a-view-versus-a-copy\n",
      "  X['Sex'] = X['Sex'].map({'male': 0, 'female': 1})\n",
      "C:\\Users\\ils09\\AppData\\Local\\Temp\\ipykernel_18988\\1020351046.py:15: SettingWithCopyWarning: \n",
      "A value is trying to be set on a copy of a slice from a DataFrame.\n",
      "Try using .loc[row_indexer,col_indexer] = value instead\n",
      "\n",
      "See the caveats in the documentation: https://pandas.pydata.org/pandas-docs/stable/user_guide/indexing.html#returning-a-view-versus-a-copy\n",
      "  X['Fare Range'] = X['Fare Range'].map(fare_mapping)\n",
      "C:\\Users\\ils09\\AppData\\Local\\Temp\\ipykernel_18988\\1020351046.py:19: SettingWithCopyWarning: \n",
      "A value is trying to be set on a copy of a slice from a DataFrame.\n",
      "Try using .loc[row_indexer,col_indexer] = value instead\n",
      "\n",
      "See the caveats in the documentation: https://pandas.pydata.org/pandas-docs/stable/user_guide/indexing.html#returning-a-view-versus-a-copy\n",
      "  X['age'] = X['age'].map(age_mapping)\n",
      "C:\\Users\\ils09\\AppData\\Local\\Temp\\ipykernel_18988\\1020351046.py:22: SettingWithCopyWarning: \n",
      "A value is trying to be set on a copy of a slice from a DataFrame\n",
      "\n",
      "See the caveats in the documentation: https://pandas.pydata.org/pandas-docs/stable/user_guide/indexing.html#returning-a-view-versus-a-copy\n",
      "  X['age'].fillna(X['age'].mode()[0], inplace=True)\n"
     ]
    }
   ],
   "source": [
    "from sklearn.model_selection import train_test_split\n",
    "from sklearn.ensemble import RandomForestClassifier\n",
    "from sklearn.metrics import accuracy_score\n",
    "\n",
    "# 필요한 특성 선택\n",
    "features = ['Pclass', 'Sex', 'Family_Size', 'Fare Range', 'age']\n",
    "X = df[features]\n",
    "y = df['Survived']\n",
    "\n",
    "# 성별을 숫자로 변환 (남성: 0, 여성: 1)\n",
    "X['Sex'] = X['Sex'].map({'male': 0, 'female': 1})\n",
    "\n",
    "# 'Fare Range' 열을 숫자로 매핑\n",
    "fare_mapping = {'0-20': 0, '20-50': 1, '50-100': 2, '100-200': 3, '200-600': 4}\n",
    "X['Fare Range'] = X['Fare Range'].map(fare_mapping)\n",
    "\n",
    "# 'age' 열을 숫자로 매핑\n",
    "age_mapping = {'child': 0, 'teenager': 1, 'young adult': 2, 'adult': 3, 'elderly': 4}\n",
    "X['age'] = X['age'].map(age_mapping)\n",
    "\n",
    "# 누락된 나이 데이터를 가장 많이 나타나는 범주값으로 대체\n",
    "X['age'].fillna(X['age'].mode()[0], inplace=True)\n",
    "\n",
    "# 데이터 분할\n",
    "X_train, X_test, y_train, y_test = train_test_split(X, y, test_size=0.2, random_state=42)\n",
    "\n",
    "# 랜덤 포레스트 모델 생성\n",
    "model = RandomForestClassifier(n_estimators=100, random_state=42)\n",
    "\n",
    "# 모델 훈련\n",
    "model.fit(X_train, y_train)\n",
    "\n",
    "# 예측\n",
    "predictions = model.predict(X_test)\n",
    "\n",
    "# 정확도 출력\n",
    "accuracy = accuracy_score(y_test, predictions)\n",
    "print(f'Accuracy: {accuracy}')\n"
   ]
  },
  {
   "cell_type": "markdown",
   "id": "4aff437a",
   "metadata": {},
   "source": [
    "#### 머신러닝 결과 약 81%의 정확도를 나타냈다. "
   ]
  },
  {
   "cell_type": "code",
   "execution_count": 47,
   "id": "dcc2a49d",
   "metadata": {},
   "outputs": [
    {
     "name": "stdout",
     "output_type": "stream",
     "text": [
      "Predictions:\n",
      "Passenger 1: Not Survived\n",
      "Passenger 2: Not Survived\n",
      "Passenger 3: Not Survived\n",
      "Passenger 4: Survived\n",
      "Passenger 5: Not Survived\n",
      "Passenger 6: Survived\n",
      "Passenger 7: Survived\n",
      "Passenger 8: Not Survived\n",
      "Passenger 9: Survived\n",
      "Passenger 10: Survived\n"
     ]
    }
   ],
   "source": [
    "# 예측 결과 출력\n",
    "print(\"Predictions:\")\n",
    "for i, prediction in enumerate(predictions[:10]):  # 처음 10개의 예측 결과만 출력\n",
    "    print(f\"Passenger {i+1}: {'Survived' if prediction == 1 else 'Not Survived'}\")"
   ]
  },
  {
   "cell_type": "markdown",
   "id": "441a5b88",
   "metadata": {},
   "source": [
    "#### 처음 10명의 생존 및 사망 예측을 출력한 것이다."
   ]
  }
 ],
 "metadata": {
  "kernelspec": {
   "display_name": "Python 3 (ipykernel)",
   "language": "python",
   "name": "python3"
  },
  "language_info": {
   "codemirror_mode": {
    "name": "ipython",
    "version": 3
   },
   "file_extension": ".py",
   "mimetype": "text/x-python",
   "name": "python",
   "nbconvert_exporter": "python",
   "pygments_lexer": "ipython3",
   "version": "3.10.13"
  }
 },
 "nbformat": 4,
 "nbformat_minor": 5
}
